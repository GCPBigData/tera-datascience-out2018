{
 "cells": [
  {
   "attachments": {
    "image.png": {
     "image/png": "[encoded data removed]"
    }
   },
   "cell_type": "markdown",
   "metadata": {},
   "source": [
    "# Aula 6 - Análise de dados com _arrays_ multidimensionais\n",
    "![image.png](https://somostera.com/wp-content/uploads/2017/08/Tera_logo_250.jpg)\n",
    "\n",
    "### Show! Mas que diabos é um _array_ multidimensional?!\n",
    "Por partes:\n",
    "* _array_ é um vetor. Um vetor é uma lista!\n",
    "* _array_ multidimensional é um _array_ de _arrays_ ou uma lista de listas.\n",
    "![image.png](http://community.datacamp.com.s3.amazonaws.com/community/production/ckeditor_assets/pictures/332/content_arrays-axes.png)\n",
    "\n",
    "### Tá, qual é a vantagem?\n",
    "Um _array_ de duas dimensões é uma lista de listas.\n",
    "![image.png](attachment:image.png)\n",
    "\n",
    "## NumPy e o mágico universo das matrizes e álgebra linear\n",
    "NumPy vem de _Numerical Python_ e é uma biblioteca que permite a manipulação de dados em _arrays_.\n",
    "* Agora podemos ter seqüências de valores n-dimensionais!\n",
    "* Construção de matrizes e, por sua vez, usar álgebra linear (cenas dos próximos episódios, em _machine learning_).\n",
    "    * Pandas <3\n",
    "* Um mundo de facilidade na manipulação de dados!\n",
    "\n",
    "Antes do NumPy, coisas muito simples ficavam consideravelmente complexas.\n",
    "Vamos criar um vetor e multiplicar cada um dos elementos dele por 2 e depois somar 5 sem NumPy?"
   ]
  },
  {
   "cell_type": "code",
   "execution_count": null,
   "metadata": {},
   "outputs": [],
   "source": [
    "vector = [-3, 10, 0, -15, -6]"
   ]
  },
  {
   "cell_type": "code",
   "execution_count": null,
   "metadata": {},
   "outputs": [],
   "source": []
  },
  {
   "cell_type": "markdown",
   "metadata": {},
   "source": [
    "**E com NumPy?**"
   ]
  },
  {
   "cell_type": "code",
   "execution_count": null,
   "metadata": {},
   "outputs": [],
   "source": [
    "# más práticas de programação: vamos importar as bibliotecas agora\n",
    "import numpy as np\n",
    "import matplotlib.pyplot as plt\n",
    "import utils\n",
    "\n",
    "%matplotlib inline"
   ]
  },
  {
   "cell_type": "code",
   "execution_count": null,
   "metadata": {},
   "outputs": [],
   "source": [
    "vector_np = np.array(vector)"
   ]
  },
  {
   "cell_type": "code",
   "execution_count": null,
   "metadata": {},
   "outputs": [],
   "source": [
    "print(type(vector))\n",
    "print(type(vector_np))"
   ]
  },
  {
   "cell_type": "code",
   "execution_count": null,
   "metadata": {},
   "outputs": [],
   "source": [
    "(vector_np * 2) + 5"
   ]
  },
  {
   "cell_type": "code",
   "execution_count": null,
   "metadata": {},
   "outputs": [],
   "source": [
    "# ó como o Python entende um vetor do tipo lista\n",
    "vector * 2"
   ]
  },
  {
   "cell_type": "markdown",
   "metadata": {},
   "source": [
    "#### A vida é mais bonita e natural com NumPy <3\n",
    "\n",
    "### Mãos na massa\n",
    "Você é responsável pelo estoque de uma distribuidora e precisa calcular o preço total de uma compra. Como faz? (Nota: pensar em algoritmos é quebrar um grande problema em problemas menores.)\n",
    "* Cada item tem um preço.\n",
    "* Se mais de uma unidade de um item é comprada, o preço é multiplicado pela quantidade de itens.\n",
    "* Total da compra é a soma da multiplicação."
   ]
  },
  {
   "cell_type": "code",
   "execution_count": null,
   "metadata": {},
   "outputs": [],
   "source": [
    "n_items = np.array([101,   42,   18,   12,   5,  134])           # quantidade de itens comprados\n",
    "prices  = np.array([12.2, 3.9, 15.0, 2.75, 1.1, 0.99])"
   ]
  },
  {
   "cell_type": "code",
   "execution_count": null,
   "metadata": {},
   "outputs": [],
   "source": []
  },
  {
   "cell_type": "markdown",
   "metadata": {},
   "source": [
    "### Fun facts: NumPy não é melhor só pra gente\n",
    "As máquinas gostam mais dele também.\n",
    "\n",
    "Suponha que você tem vários armazéns de estoque da distribuidora e quer saber qual é o mais próximo de você no momento. Sua localização é dada por coordenadas (uma tupla de latitude e longitude), bem como a localização de cada estoque. Como faz?"
   ]
  },
  {
   "cell_type": "code",
   "execution_count": null,
   "metadata": {},
   "outputs": [],
   "source": [
    "your_location = np.array((2, 5))\n",
    "warehouse_locations = np.array([(1 ,0), (2 ,4), (7 ,2), (0 ,5)])"
   ]
  },
  {
   "cell_type": "code",
   "execution_count": null,
   "metadata": {},
   "outputs": [],
   "source": [
    "def pure_python(your_loc, warehouse_locs):\n",
    "    mx, my = your_loc\n",
    "\n",
    "    best_wh = None\n",
    "    min_d = 100\n",
    "    dists = []\n",
    "    for i, (x, y) in enumerate(warehouse_locs):\n",
    "        d = abs(mx - x) + abs(my - y)\n",
    "        if d < min_d:\n",
    "            best_wh = i\n",
    "            min_d = d\n",
    "\n",
    "    return best_wh"
   ]
  },
  {
   "cell_type": "code",
   "execution_count": null,
   "metadata": {},
   "outputs": [],
   "source": [
    "pure_python(your_location, warehouse_locations)"
   ]
  },
  {
   "cell_type": "code",
   "execution_count": null,
   "metadata": {},
   "outputs": [],
   "source": [
    "np.abs((your_location - warehouse_locations)).sum(axis = 1).argmin()"
   ]
  },
  {
   "cell_type": "code",
   "execution_count": null,
   "metadata": {},
   "outputs": [],
   "source": [
    "warehouse_locations[1]"
   ]
  },
  {
   "cell_type": "code",
   "execution_count": null,
   "metadata": {},
   "outputs": [],
   "source": [
    "%timeit pure_python(your_location, warehouse_locations)"
   ]
  },
  {
   "cell_type": "code",
   "execution_count": null,
   "metadata": {},
   "outputs": [],
   "source": [
    "%timeit np.abs((your_location - warehouse_locations)).sum(axis = 1).argmin()"
   ]
  },
  {
   "cell_type": "markdown",
   "metadata": {},
   "source": [
    "#### Convencidos?\n",
    "E a mágica não pára por aí...\n",
    "\n",
    "Podemos definir _arrays_ NumPy passando listas, como já vimos:"
   ]
  },
  {
   "cell_type": "code",
   "execution_count": null,
   "metadata": {},
   "outputs": [],
   "source": [
    "a = np.array([1, 2, 3, 4, 5])\n",
    "a"
   ]
  },
  {
   "cell_type": "markdown",
   "metadata": {},
   "source": [
    "Ou várias listas aninhadas:"
   ]
  },
  {
   "cell_type": "code",
   "execution_count": null,
   "metadata": {},
   "outputs": [],
   "source": [
    "b = np.array([[1, 2, 3], [3, 2, 1]])\n",
    "b"
   ]
  },
  {
   "cell_type": "markdown",
   "metadata": {},
   "source": [
    "E pode seguir e ficar tão complexo quanto eu bem entender!"
   ]
  },
  {
   "cell_type": "code",
   "execution_count": null,
   "metadata": {},
   "outputs": [],
   "source": [
    "np.array([[1, 2, 3], \n",
    "          [3, 2, 1],\n",
    "          [0, 0, 0]])"
   ]
  },
  {
   "cell_type": "markdown",
   "metadata": {},
   "source": [
    "### Ferramentas legais\n",
    "**Dimensões (_rank_) de um _array_:**\n",
    "* Calendário: 2 dimensões\n",
    "* Gasto com alimentação todo mês: 1 dimensão\n",
    "* Jogo da velha ou batalha naval: 2 dimensões"
   ]
  },
  {
   "cell_type": "code",
   "execution_count": null,
   "metadata": {},
   "outputs": [],
   "source": [
    "a.ndim"
   ]
  },
  {
   "cell_type": "code",
   "execution_count": null,
   "metadata": {},
   "outputs": [],
   "source": [
    "b.ndim"
   ]
  },
  {
   "cell_type": "markdown",
   "metadata": {},
   "source": [
    "**Formato (_shape_) do _array_:**\n",
    "* Calendário: 5 x 7 (mas varia)\n",
    "* Gasto com alimentação todo mês: 12\n",
    "* Jogo da velha: 3 x 3\n",
    "* Sudoku: 9 x 9"
   ]
  },
  {
   "cell_type": "code",
   "execution_count": null,
   "metadata": {},
   "outputs": [],
   "source": [
    "a.shape"
   ]
  },
  {
   "cell_type": "code",
   "execution_count": null,
   "metadata": {},
   "outputs": [],
   "source": [
    "b.shape"
   ]
  },
  {
   "cell_type": "markdown",
   "metadata": {},
   "source": [
    "### Jogo rápido:\n",
    "Quantas e quais são as dimensões desses _arrays_?"
   ]
  },
  {
   "cell_type": "code",
   "execution_count": null,
   "metadata": {},
   "outputs": [],
   "source": [
    "np.array([[ 0.4519243 ,  0.17657074,  0.82173731,  0.73718558],\n",
    "          [ 0.37762179,  0.09939027,  0.84810815,  0.57109009]])"
   ]
  },
  {
   "cell_type": "code",
   "execution_count": null,
   "metadata": {},
   "outputs": [],
   "source": [
    "np.array([9, 1, 8, 5, 0, 3])"
   ]
  },
  {
   "cell_type": "code",
   "execution_count": null,
   "metadata": {},
   "outputs": [],
   "source": [
    "np.array([[[ 0,  1,  2],\n",
    "           [ 3,  4,  5],\n",
    "           [ 6,  7,  8]],\n",
    "\n",
    "          [[ 9, 10, 11],\n",
    "           [12, 13, 14],\n",
    "           [15, 16, 17]],\n",
    "\n",
    "          [[18, 19, 20],\n",
    "           [21, 22, 23],\n",
    "           [24, 25, 26]]])"
   ]
  },
  {
   "cell_type": "markdown",
   "metadata": {},
   "source": [
    "### _Array_ ou _list_?\n",
    "Listas comportam objetos de diferentes tipos:"
   ]
  },
  {
   "cell_type": "code",
   "execution_count": null,
   "metadata": {},
   "outputs": [],
   "source": [
    "lst = [1, 1., 'one', int]\n",
    "\n",
    "for item in lst:\n",
    "    print(item, type(item))"
   ]
  },
  {
   "cell_type": "markdown",
   "metadata": {},
   "source": [
    "_Arrays_, por outro lado, só podem ter objetos de um mesmo tipo (normalmente numéricos):"
   ]
  },
  {
   "cell_type": "code",
   "execution_count": null,
   "metadata": {},
   "outputs": [],
   "source": [
    "c = np.array([1.0, 2, 3, 4, 5, 'seis'])\n",
    "c"
   ]
  },
  {
   "cell_type": "code",
   "execution_count": null,
   "metadata": {},
   "outputs": [],
   "source": [
    "c.dtype"
   ]
  },
  {
   "cell_type": "markdown",
   "metadata": {},
   "source": [
    "NumPy tenta inferir qual é o tipo que você quer e converte todos pro mesmo tipo (com preferência pelo mais flexível, claro).\n",
    "\n",
    "Listas suportam qualquer dimensão:"
   ]
  },
  {
   "cell_type": "code",
   "execution_count": null,
   "metadata": {},
   "outputs": [],
   "source": [
    "matrix_py = [[1,2,3], ['one', 'two'], [1., 2., 3., 4., 5., 6.], ['one', 2, 3.0]]\n",
    "matrix_py"
   ]
  },
  {
   "cell_type": "markdown",
   "metadata": {},
   "source": [
    "_Arrays_ exigem que toda linha tenha a mesma dimensão pra conseguir montar a matriz."
   ]
  },
  {
   "cell_type": "code",
   "execution_count": null,
   "metadata": {},
   "outputs": [],
   "source": [
    "matrix_np = np.array([[1,2,3], [10,20,30]])\n",
    "print(matrix_np.shape)\n",
    "print(matrix_np.dtype)\n",
    "matrix_np"
   ]
  },
  {
   "cell_type": "markdown",
   "metadata": {},
   "source": [
    "### Geradores\n",
    "As magias NumPynianas incluem geradores de _arrays_ úteis:"
   ]
  },
  {
   "cell_type": "code",
   "execution_count": null,
   "metadata": {},
   "outputs": [],
   "source": [
    "np.ones((3, 4))"
   ]
  },
  {
   "cell_type": "code",
   "execution_count": null,
   "metadata": {},
   "outputs": [],
   "source": [
    "np.zeros((2, 10), dtype = np.int64)"
   ]
  },
  {
   "cell_type": "code",
   "execution_count": null,
   "metadata": {},
   "outputs": [],
   "source": [
    "np.random.random((6, 4))"
   ]
  },
  {
   "cell_type": "code",
   "execution_count": null,
   "metadata": {},
   "outputs": [],
   "source": [
    "np.random.randint(1, 5, (3, 4))"
   ]
  },
  {
   "cell_type": "code",
   "execution_count": null,
   "metadata": {},
   "outputs": [],
   "source": [
    "np.arange(10, 50, 5)      # Valores em sequência np.arange(primeiro inclusivo, último exclusivo, incremento)"
   ]
  },
  {
   "cell_type": "markdown",
   "metadata": {},
   "source": [
    "### Indexação e atribuições\n",
    "Para acessar o i-ésimo elemento de um _array_, basta fazer `a[i]`. Não se esqueça que todos os índices começam em zero!"
   ]
  },
  {
   "cell_type": "code",
   "execution_count": null,
   "metadata": {},
   "outputs": [],
   "source": [
    "a = np.array([0, 10, 20, 30, 40, 50])"
   ]
  },
  {
   "cell_type": "code",
   "execution_count": null,
   "metadata": {},
   "outputs": [],
   "source": [
    "a[4]"
   ]
  },
  {
   "cell_type": "markdown",
   "metadata": {},
   "source": [
    "Da mesma forma, se temos duas dimensões e queremos acessar o elemento na linha `i` e coluna `j`, basta fazer `a[i, j]`."
   ]
  },
  {
   "cell_type": "code",
   "execution_count": null,
   "metadata": {},
   "outputs": [],
   "source": [
    "a = np.array([[1,2,3,4], [5,6,7,8], [9,10,11,12]])\n",
    "a"
   ]
  },
  {
   "cell_type": "code",
   "execution_count": null,
   "metadata": {},
   "outputs": [],
   "source": [
    "a[0,2]"
   ]
  },
  {
   "cell_type": "markdown",
   "metadata": {},
   "source": [
    "E ainda por cima posso usar a indexação para fazer atribuições!"
   ]
  },
  {
   "cell_type": "code",
   "execution_count": null,
   "metadata": {},
   "outputs": [],
   "source": [
    "z = np.zeros(10, dtype = int)\n",
    "z"
   ]
  },
  {
   "cell_type": "code",
   "execution_count": null,
   "metadata": {},
   "outputs": [],
   "source": [
    "z[4] = 1\n",
    "z"
   ]
  },
  {
   "cell_type": "markdown",
   "metadata": {},
   "source": [
    "### _Slicing_\n",
    "É uma sintaxe que permite indexar intervalos e acessar sub-_arrays_ (fatias de _ arrays_)."
   ]
  },
  {
   "cell_type": "code",
   "execution_count": null,
   "metadata": {},
   "outputs": [],
   "source": [
    "m = np.random.random((10,5))\n",
    "m"
   ]
  },
  {
   "cell_type": "markdown",
   "metadata": {},
   "source": [
    "Para acessar as três primeiras linhas e as duas últimas colunas, "
   ]
  },
  {
   "cell_type": "code",
   "execution_count": null,
   "metadata": {},
   "outputs": [],
   "source": [
    "m[0:3]"
   ]
  },
  {
   "cell_type": "markdown",
   "metadata": {},
   "source": [
    "Você também pode ignorar um dos limites:"
   ]
  },
  {
   "cell_type": "code",
   "execution_count": null,
   "metadata": {},
   "outputs": [],
   "source": [
    "m[:, 4:5]"
   ]
  },
  {
   "cell_type": "markdown",
   "metadata": {},
   "source": [
    "Ou usar índices negativos!"
   ]
  },
  {
   "cell_type": "code",
   "execution_count": null,
   "metadata": {},
   "outputs": [],
   "source": [
    "m[:3, -2:]"
   ]
  },
  {
   "cell_type": "markdown",
   "metadata": {},
   "source": [
    "E combinar _slicing_ com índices:"
   ]
  },
  {
   "cell_type": "code",
   "execution_count": null,
   "metadata": {},
   "outputs": [],
   "source": [
    "m[0, :3]"
   ]
  },
  {
   "cell_type": "markdown",
   "metadata": {},
   "source": [
    "Note que isso reduz a dimensão do seu _array_:"
   ]
  },
  {
   "cell_type": "code",
   "execution_count": null,
   "metadata": {},
   "outputs": [],
   "source": [
    "print(m.ndim)\n",
    "print(m[0].ndim)\n",
    "print(m[:2, 0].ndim)\n",
    "print(m[0,0].ndim)"
   ]
  },
  {
   "cell_type": "code",
   "execution_count": null,
   "metadata": {},
   "outputs": [],
   "source": [
    "print(m.shape)\n",
    "print(m[0].shape)\n",
    "print(m[:2, 0].shape)\n",
    "print(m[0,0].shape)"
   ]
  },
  {
   "cell_type": "markdown",
   "metadata": {},
   "source": [
    "E atribuições com _slicing_? Pode também!"
   ]
  },
  {
   "cell_type": "code",
   "execution_count": null,
   "metadata": {},
   "outputs": [],
   "source": [
    "m = np.random.random((3,3))\n",
    "m"
   ]
  },
  {
   "cell_type": "code",
   "execution_count": null,
   "metadata": {},
   "outputs": [],
   "source": [
    "m[1, ] = 0\n",
    "m"
   ]
  },
  {
   "cell_type": "markdown",
   "metadata": {},
   "source": [
    "Se as dimensões batem, ainda podemos atribuir um _array_ num _slice_ de outro _array_:"
   ]
  },
  {
   "cell_type": "code",
   "execution_count": null,
   "metadata": {},
   "outputs": [],
   "source": [
    "m = np.zeros((4, 5))\n",
    "m"
   ]
  },
  {
   "cell_type": "code",
   "execution_count": null,
   "metadata": {},
   "outputs": [],
   "source": [
    "m[1] = [1, 2, 3, 4, 5]\n",
    "m[:, -1] = np.ones(4)\n",
    "\n",
    "m"
   ]
  },
  {
   "cell_type": "markdown",
   "metadata": {},
   "source": [
    "## Bora trabalhar?\n",
    "Crie uma matriz com 5 colunas e 3 linhas de valores aleatórios entre 0 e 1. Depois, imprima o valor da segunda linha, terceira coluna."
   ]
  },
  {
   "cell_type": "code",
   "execution_count": null,
   "metadata": {},
   "outputs": [],
   "source": []
  },
  {
   "cell_type": "markdown",
   "metadata": {},
   "source": [
    "Crie um _array_ que vai de 2 a 10 (inclusivos) com incrementos de 0.5 em 0.5 (Dica: `np.arrange` e `np.linspace`)."
   ]
  },
  {
   "cell_type": "code",
   "execution_count": null,
   "metadata": {},
   "outputs": [],
   "source": []
  },
  {
   "cell_type": "markdown",
   "metadata": {},
   "source": [
    "Crie um _array_ 2D com quatro linhas e cinco colunas de zeros, mas com a coluna central de uns."
   ]
  },
  {
   "cell_type": "code",
   "execution_count": null,
   "metadata": {},
   "outputs": [],
   "source": []
  },
  {
   "cell_type": "markdown",
   "metadata": {},
   "source": [
    "Crie uma matriz 10 x 10 com valores aleatórios inteiros entre 0 e 9:"
   ]
  },
  {
   "cell_type": "code",
   "execution_count": null,
   "metadata": {},
   "outputs": [],
   "source": []
  },
  {
   "cell_type": "markdown",
   "metadata": {},
   "source": [
    "Imprima os três primeiros elementos da última linha:"
   ]
  },
  {
   "cell_type": "code",
   "execution_count": null,
   "metadata": {},
   "outputs": [],
   "source": []
  },
  {
   "cell_type": "markdown",
   "metadata": {},
   "source": [
    "Atribua esses elementos aos 3 primeiros da última linha:"
   ]
  },
  {
   "cell_type": "code",
   "execution_count": null,
   "metadata": {},
   "outputs": [],
   "source": []
  },
  {
   "cell_type": "markdown",
   "metadata": {},
   "source": [
    "E se eu quiser esses mesmos 3 elementos nos três primeiros de todas as linhas?"
   ]
  },
  {
   "cell_type": "code",
   "execution_count": null,
   "metadata": {},
   "outputs": [],
   "source": []
  },
  {
   "cell_type": "markdown",
   "metadata": {},
   "source": [
    "### Acesso com máscaras booleanas"
   ]
  },
  {
   "cell_type": "code",
   "execution_count": null,
   "metadata": {},
   "outputs": [],
   "source": [
    "a = np.arange(20).reshape(5,4)\n",
    "a"
   ]
  },
  {
   "cell_type": "markdown",
   "metadata": {},
   "source": [
    "Podemos acessar um _array_ com um _array_ de booleanos com o mesmo _shape_."
   ]
  },
  {
   "cell_type": "code",
   "execution_count": null,
   "metadata": {},
   "outputs": [],
   "source": [
    "a[[True, False, True, True, False]]"
   ]
  },
  {
   "cell_type": "code",
   "execution_count": null,
   "metadata": {},
   "outputs": [],
   "source": [
    "a[:, [True, False, True, False]]"
   ]
  },
  {
   "cell_type": "markdown",
   "metadata": {},
   "source": [
    "Parece estranho, eu sei... mas é bastante útil e fará sentido em breve!\n",
    "\n",
    "#### Lembrete rápido sobre _slicing_\n",
    "* Se você ignorar um dos limites, ele considera todo o restante\n",
    "* O limite inferior é inclusivo, já o limite superior é exclusivo\n",
    "* Você pode usar índices negativos\n",
    "* Diferente da indexação direta, índices inválidos vão retornar um _array_ vazio, e não um erro\n",
    "* _Slincing_ e acessos diretos podem ser combinados, porém lembre-se que seu _array_ perde dimensões com cada acesso\n",
    "\n",
    "### Operações matemáticas com _arrays_\n",
    "Já vimos como o NumPy facilita a vida ao lidar com operações matemáticas em _arrays_ de forma natural. NumPy suporta todas as operações tradicionais e mais muitas outras!\n",
    "\n",
    "A maioria das operações que fazemos é elemento por elemento (_element-wise_), ou seja, se C = A + B, temos que `A.shape == B.shape == C.shape` e para todo i, j temos que `C[i,j] = A[i,j] + B[i,j]`"
   ]
  },
  {
   "cell_type": "code",
   "execution_count": null,
   "metadata": {},
   "outputs": [],
   "source": [
    "x = np.array([[1,2],[3,4]], dtype=np.float64)\n",
    "y = np.array([[5,6],[7,8]], dtype=np.float64)\n",
    "z = np.ones((2,2))"
   ]
  },
  {
   "cell_type": "code",
   "execution_count": null,
   "metadata": {},
   "outputs": [],
   "source": [
    "x"
   ]
  },
  {
   "cell_type": "code",
   "execution_count": null,
   "metadata": {},
   "outputs": [],
   "source": [
    "y"
   ]
  },
  {
   "cell_type": "code",
   "execution_count": null,
   "metadata": {},
   "outputs": [],
   "source": [
    "z"
   ]
  },
  {
   "cell_type": "code",
   "execution_count": null,
   "metadata": {},
   "outputs": [],
   "source": [
    "x + y"
   ]
  },
  {
   "cell_type": "code",
   "execution_count": null,
   "metadata": {},
   "outputs": [],
   "source": [
    "(x + y)*z"
   ]
  },
  {
   "cell_type": "markdown",
   "metadata": {},
   "source": [
    "Há também outras formas de se operar _arrays_:"
   ]
  },
  {
   "cell_type": "code",
   "execution_count": null,
   "metadata": {},
   "outputs": [],
   "source": [
    "np.add(x, y)"
   ]
  },
  {
   "cell_type": "code",
   "execution_count": null,
   "metadata": {},
   "outputs": [],
   "source": [
    "np.subtract(x, y)"
   ]
  },
  {
   "cell_type": "code",
   "execution_count": null,
   "metadata": {},
   "outputs": [],
   "source": [
    "np.multiply(x, y)"
   ]
  },
  {
   "cell_type": "code",
   "execution_count": null,
   "metadata": {},
   "outputs": [],
   "source": [
    "np.divide(x, y)"
   ]
  },
  {
   "cell_type": "markdown",
   "metadata": {},
   "source": [
    "Também podemos fazer operações entre um escalar e um _array_, aí o escalar é aplicado a todos os elementos do _array_."
   ]
  },
  {
   "cell_type": "code",
   "execution_count": null,
   "metadata": {},
   "outputs": [],
   "source": [
    "(2*x + y/2)*z"
   ]
  },
  {
   "cell_type": "markdown",
   "metadata": {},
   "source": [
    "NumPy também tem várias funções de comparação:"
   ]
  },
  {
   "cell_type": "code",
   "execution_count": null,
   "metadata": {},
   "outputs": [],
   "source": [
    "a = np.array([-3, 7, 3, 23])\n",
    "b = np.array([0, 2, 10, -1])\n",
    "c = np.array([1, 13, 0, 8])\n",
    "\n",
    "np.maximum(a, b)\n",
    "np.minimum(a, b)"
   ]
  },
  {
   "cell_type": "markdown",
   "metadata": {},
   "source": [
    "### Operações lógicas\n",
    "Operações lógicas são bastante comuns em _arrays_ também:"
   ]
  },
  {
   "cell_type": "code",
   "execution_count": null,
   "metadata": {},
   "outputs": [],
   "source": [
    "a > b"
   ]
  },
  {
   "cell_type": "code",
   "execution_count": null,
   "metadata": {},
   "outputs": [],
   "source": [
    "(b > a) & (b < c)"
   ]
  },
  {
   "cell_type": "code",
   "execution_count": null,
   "metadata": {},
   "outputs": [],
   "source": [
    "(b > a) & (b > c)"
   ]
  },
  {
   "cell_type": "markdown",
   "metadata": {},
   "source": [
    "São úteis para contar valores que tornam alguma condição verdade (isso porque o NumPy considera `True = 1` e `False = 0`)"
   ]
  },
  {
   "cell_type": "code",
   "execution_count": null,
   "metadata": {},
   "outputs": [],
   "source": [
    "np.sum(a < b)"
   ]
  },
  {
   "cell_type": "markdown",
   "metadata": {},
   "source": [
    "Também são incrivelmente úteis para indexação e atribuição:"
   ]
  },
  {
   "cell_type": "code",
   "execution_count": null,
   "metadata": {},
   "outputs": [],
   "source": [
    "a[a > 5]"
   ]
  },
  {
   "cell_type": "markdown",
   "metadata": {},
   "source": [
    "### Exercícios!\n",
    "Dado o array abaixo, o que é retornado por `a[[True, False, False, False, True]]`? (pense antes de rodar)"
   ]
  },
  {
   "cell_type": "code",
   "execution_count": null,
   "metadata": {},
   "outputs": [],
   "source": [
    "a = np.arange(20).reshape(5,4)\n",
    "a"
   ]
  },
  {
   "cell_type": "code",
   "execution_count": null,
   "metadata": {},
   "outputs": [],
   "source": []
  },
  {
   "cell_type": "markdown",
   "metadata": {},
   "source": [
    "Quantos elementos estão entre 40 e 60?"
   ]
  },
  {
   "cell_type": "code",
   "execution_count": null,
   "metadata": {},
   "outputs": [],
   "source": [
    "a = np.array([[17, 18, 34, 78, 65],\n",
    "              [26, 92, 48, 56,  6],\n",
    "              [19, 41, 97, 52, 43],\n",
    "              [62, 49, 74, 97,  5],\n",
    "              [65, 93,  3, 15, 22]])"
   ]
  },
  {
   "cell_type": "code",
   "execution_count": null,
   "metadata": {},
   "outputs": [],
   "source": []
  },
  {
   "cell_type": "markdown",
   "metadata": {},
   "source": [
    "Divida o array a em b e c, onde b tem as linhas que começam com valores menores que 5 e b as linhas que começam com valores maiores ou iguais a 5:"
   ]
  },
  {
   "cell_type": "code",
   "execution_count": null,
   "metadata": {},
   "outputs": [],
   "source": [
    "a = np.random.randint(1, 10, 90).reshape(15,6)\n",
    "a"
   ]
  },
  {
   "cell_type": "code",
   "execution_count": null,
   "metadata": {},
   "outputs": [],
   "source": []
  },
  {
   "cell_type": "markdown",
   "metadata": {},
   "source": [
    "Crie uma matriz 5 x 5 com números inteiros entre 0 e 9. Agora retorne a primeira linha somada com a última, subtraída pelo número exatamente no centro da matriz:"
   ]
  },
  {
   "cell_type": "code",
   "execution_count": null,
   "metadata": {},
   "outputs": [],
   "source": []
  },
  {
   "cell_type": "markdown",
   "metadata": {},
   "source": [
    "### _Views_ vs _Copy_\n",
    "NumPy evita fazer cópias desnecessárias dos dados. Apesar disso ser super eficiente, também facilita para cometermos erros:"
   ]
  },
  {
   "cell_type": "code",
   "execution_count": null,
   "metadata": {},
   "outputs": [],
   "source": [
    "a = np.arange(12).reshape(3,4)\n",
    "a"
   ]
  },
  {
   "cell_type": "code",
   "execution_count": null,
   "metadata": {},
   "outputs": [],
   "source": [
    "v = a[:,1:3]\n",
    "v"
   ]
  },
  {
   "cell_type": "markdown",
   "metadata": {},
   "source": [
    "`v` é uma _view_ de `a` (um pedaço), mas não uma cópia."
   ]
  },
  {
   "cell_type": "code",
   "execution_count": null,
   "metadata": {},
   "outputs": [],
   "source": [
    "v[:] = 100\n",
    "v"
   ]
  },
  {
   "cell_type": "markdown",
   "metadata": {},
   "source": [
    "Para resolver isso, você pode usar o método `copy` (mas só se precisar mesmo):"
   ]
  },
  {
   "cell_type": "code",
   "execution_count": null,
   "metadata": {},
   "outputs": [],
   "source": [
    "a = np.arange(12).reshape(3,4)\n",
    "\n",
    "c = a[:,1:3].copy()\n",
    "c"
   ]
  },
  {
   "cell_type": "markdown",
   "metadata": {},
   "source": [
    "Agora `c` é uma cópia de `a`."
   ]
  },
  {
   "cell_type": "code",
   "execution_count": null,
   "metadata": {},
   "outputs": [],
   "source": [
    "c[:] = 100\n",
    "a"
   ]
  },
  {
   "cell_type": "markdown",
   "metadata": {},
   "source": [
    "## Usando imagens para explorar _arrays_"
   ]
  },
  {
   "cell_type": "code",
   "execution_count": null,
   "metadata": {},
   "outputs": [],
   "source": [
    "from matplotlib.image import imread\n",
    "from matplotlib.pyplot import imshow\n",
    "\n",
    "def imshowg(img):\n",
    "    imshow(img, cmap = 'gray')"
   ]
  },
  {
   "cell_type": "code",
   "execution_count": null,
   "metadata": {},
   "outputs": [],
   "source": [
    "img = imread('lenna-gray.png')\n",
    "imshowg(img)"
   ]
  },
  {
   "cell_type": "markdown",
   "metadata": {},
   "source": [
    "Investigando um pouco mais o que é uma imagem, vemos que é apenas um array de duas dimensões:"
   ]
  },
  {
   "cell_type": "code",
   "execution_count": null,
   "metadata": {},
   "outputs": [],
   "source": [
    "print(img.shape)\n",
    "print(img.dtype)"
   ]
  },
  {
   "cell_type": "markdown",
   "metadata": {},
   "source": [
    "Assim sendo, podemos manipular os valores da imagem da forma que bem entendermos!"
   ]
  },
  {
   "cell_type": "code",
   "execution_count": null,
   "metadata": {},
   "outputs": [],
   "source": [
    "imshowg(img[:100, :200])"
   ]
  },
  {
   "cell_type": "code",
   "execution_count": null,
   "metadata": {},
   "outputs": [],
   "source": [
    "imshowg(img.T)"
   ]
  },
  {
   "cell_type": "markdown",
   "metadata": {},
   "source": [
    "### Exercícios com imagens\n",
    "_Because we can._ \n",
    "\n",
    "Faça um close dramático nos olhos da Lenna!"
   ]
  },
  {
   "cell_type": "code",
   "execution_count": null,
   "metadata": {},
   "outputs": [],
   "source": []
  },
  {
   "cell_type": "markdown",
   "metadata": {},
   "source": [
    "Lenna não quer ser identificada. Vamos esconder seus belos olhos com uma tarja preta."
   ]
  },
  {
   "cell_type": "code",
   "execution_count": null,
   "metadata": {},
   "outputs": [],
   "source": []
  },
  {
   "cell_type": "markdown",
   "metadata": {},
   "source": [
    "Lenna quer ser uma estrela de cinema. Faça sua imagem parecer um tela _widescreen_ (tarjas pretas inferiores e superiores)."
   ]
  },
  {
   "cell_type": "markdown",
   "metadata": {},
   "source": [
    "## Funções\n",
    "NumPy oferece várias funções matemáticas clássicas e todas estão prontas para operar em _arrays_, elemento a elemento:"
   ]
  },
  {
   "cell_type": "code",
   "execution_count": null,
   "metadata": {},
   "outputs": [],
   "source": [
    "a = np.array([2, 4, 1, 16])\n",
    "a"
   ]
  },
  {
   "cell_type": "code",
   "execution_count": null,
   "metadata": {},
   "outputs": [],
   "source": [
    "np.log2(a)"
   ]
  },
  {
   "cell_type": "code",
   "execution_count": null,
   "metadata": {},
   "outputs": [],
   "source": [
    "np.sqrt(a)"
   ]
  },
  {
   "cell_type": "code",
   "execution_count": null,
   "metadata": {},
   "outputs": [],
   "source": [
    "np.power(a, 2)"
   ]
  },
  {
   "cell_type": "code",
   "execution_count": null,
   "metadata": {},
   "outputs": [],
   "source": [
    "a**2"
   ]
  },
  {
   "cell_type": "markdown",
   "metadata": {},
   "source": [
    "## Gráficos!\n",
    "Vamos aprender o básico do básico de Matplotlib para podermos visualizar algumas das nossas análises. O principal método da biblioteca é o `plt.plot(x, y)`."
   ]
  },
  {
   "cell_type": "code",
   "execution_count": null,
   "metadata": {},
   "outputs": [],
   "source": [
    "import matplotlib.pyplot as plt"
   ]
  },
  {
   "cell_type": "markdown",
   "metadata": {},
   "source": [
    "Se quisermos plotar os pontos (1, 1), (2, 2) e (3, 3) com diferentes tipos de plot:"
   ]
  },
  {
   "cell_type": "code",
   "execution_count": null,
   "metadata": {},
   "outputs": [],
   "source": [
    "plt.plot([1,2,3], [1,2,3])"
   ]
  },
  {
   "cell_type": "markdown",
   "metadata": {},
   "source": [
    "É bem simples, como vimos, só lembre-se que cada eixo fica em um _array_ separado, ao invés de passarmos os pontos juntos:"
   ]
  },
  {
   "cell_type": "code",
   "execution_count": null,
   "metadata": {},
   "outputs": [],
   "source": [
    "x = np.array([-3,-2,-1,-0,1,2,3])\n",
    "plt.plot(x, x**2)"
   ]
  },
  {
   "cell_type": "markdown",
   "metadata": {},
   "source": [
    "Nosso plot parece meio quadradão :/\n",
    "\n",
    "Podemos combinar os geradores de _arrays_ com as funções NumPy para plotar mais pontos e visualizar diferentes funções:"
   ]
  },
  {
   "cell_type": "code",
   "execution_count": null,
   "metadata": {},
   "outputs": [],
   "source": [
    "x = np.linspace(-4, 4, 100)\n",
    "plt.plot(x, x)\n",
    "plt.plot(x, 2*x)\n",
    "plt.plot(x, x**2 - 4, '--')\n",
    "plt.plot(x, np.sin(x))"
   ]
  },
  {
   "cell_type": "markdown",
   "metadata": {},
   "source": [
    "Matplolib é extremamente customizável, mas teremos tempo pra explorar suas funcionalidades em outra aula."
   ]
  },
  {
   "cell_type": "code",
   "execution_count": null,
   "metadata": {},
   "outputs": [],
   "source": [
    "x = np.linspace(-4, 4, 100)\n",
    "plt.plot(x, x, label = 'identidade')\n",
    "plt.plot(x, -2*x, label = 'linear')\n",
    "plt.plot(x, x**2 - 1, label = 'quadrática')\n",
    "plt.title('Título')\n",
    "plt.xlabel('Eixo x')\n",
    "plt.ylabel('Eixo y')\n",
    "plt.xlim((-3, 4))\n",
    "plt.ylim((-2, 4))\n",
    "plt.legend()"
   ]
  },
  {
   "cell_type": "markdown",
   "metadata": {},
   "source": [
    "## Exercícios\n",
    "Calcule a distância absoluta entre cada elemento de A para cada elemento de B:"
   ]
  },
  {
   "cell_type": "code",
   "execution_count": null,
   "metadata": {},
   "outputs": [],
   "source": [
    "a = np.array([[ 2.24076221,  6.94465659,  8.1025218 ],\n",
    "              [ 2.5315115 ,  5.11973604,  4.47462266]])\n",
    "b = np.array([[ 0.05494317,  5.85191288,  1.74149864],\n",
    "              [ 9.24855539,  7.85211148,  8.7456627 ]])"
   ]
  },
  {
   "cell_type": "code",
   "execution_count": null,
   "metadata": {},
   "outputs": [],
   "source": [
    "np.abs(a - b).astype(int)"
   ]
  },
  {
   "cell_type": "markdown",
   "metadata": {},
   "source": [
    "Existe um resultado interessante da trigonometria diz que, para qualquer valor x, temos que $\\sin(x)^2 + \\cos(x)^2 = 1$. Verifique se isso é verdade para pelo menos 30 valores aleatórios."
   ]
  },
  {
   "cell_type": "code",
   "execution_count": null,
   "metadata": {},
   "outputs": [],
   "source": [
    "a = np.random.random(30)\n",
    "np.allclose(np.sin(a)**2 + np.cos(a)**2, 1)"
   ]
  },
  {
   "cell_type": "markdown",
   "metadata": {},
   "source": [
    "## Agregações\n",
    "NumPy oferece funções que agregam múltiplos valores em um único valor, como `sum` e `mean`:"
   ]
  },
  {
   "cell_type": "code",
   "execution_count": null,
   "metadata": {},
   "outputs": [],
   "source": [
    "a = np.arange(10)\n",
    "\n",
    "print(' sum:', a.sum())\n",
    "print(' min:', a.min())\n",
    "print(' max:', a.max())\n",
    "print(' cum:', a.cumsum())\n",
    "print('mean:', a.mean())\n",
    "print(' std: ', a.std())"
   ]
  },
  {
   "cell_type": "markdown",
   "metadata": {},
   "source": [
    "Notem como é possível chamar tanto `np.func(a)`, ou `a.func()`.\n",
    "\n",
    "Quando temos mais de uma dimensão podemos fazer agregações em dimensões específicas usando o argumento `axis`:"
   ]
  },
  {
   "cell_type": "code",
   "execution_count": null,
   "metadata": {},
   "outputs": [],
   "source": [
    "m = np.arange(12).reshape(3,4)\n",
    "m"
   ]
  },
  {
   "cell_type": "code",
   "execution_count": null,
   "metadata": {},
   "outputs": [],
   "source": [
    "np.sum(m, axis=0)"
   ]
  },
  {
   "attachments": {
    "image.png": {
     "image/png": "[encoded data removed]"
    }
   },
   "cell_type": "markdown",
   "metadata": {},
   "source": [
    "![image.png](attachment:image.png)\n",
    "\n",
    "\n",
    "Muitos métodos oferecem um opção `arg`, que ao invés de retornar o valor, retorna o índice:"
   ]
  },
  {
   "cell_type": "code",
   "execution_count": null,
   "metadata": {},
   "outputs": [],
   "source": [
    "a = np.array([4, 8, 8, 2, 5, 6, 0])\n",
    "np.where(np.max(a) == a)"
   ]
  },
  {
   "cell_type": "markdown",
   "metadata": {},
   "source": [
    "Esses métodos são importantes pois muitas vezes queremos saber qual é o maior elemento, e não o valor do maior elemento.\n",
    "\n",
    "## Métricas de erro\n",
    "É muito comum termos métricas de erro no processo de modelagem. Uma métrica geralmente vai falar quão distante nossas predições estão dos dados reais. Por exemplo, se eu estava tentando prever vendas em 3 setores da minha empresa no próximo mês, após eu ter observado que as vendas reais foram [97K, 50K, 12K], um resultado que previu [102K, 74K,  5K] é claramente melhor que um que previu [20K, 400K, 15K]. Porém a medida que esses números se aproximam, devemos ter formas mais quantitativas de avaliar essas previsões.\n",
    "\n",
    "Uma métrica de erro popular é a raiz do erro quadrático médio (RMSE). Se os valores que você queria prever estão no array $Y$, e os valores de fato preditos estão no array $Y^p$, o RMSE das suas predições é definido como $\\sqrt{\\frac{1}{n} \\sum_{i=1}^{n}{{(Y_i - Y^p_i)}^2}}$\n",
    "\n",
    "Dados Y e Yp, calcule o RMSE:"
   ]
  },
  {
   "cell_type": "code",
   "execution_count": null,
   "metadata": {},
   "outputs": [],
   "source": [
    "Y = np.array([1.67, 1.78, 1.57, 1.50, 2.01])\n",
    "Yp = np.array([1.51, 1.72, 1.81, 1.41, 1.91])"
   ]
  },
  {
   "cell_type": "code",
   "execution_count": null,
   "metadata": {},
   "outputs": [],
   "source": []
  },
  {
   "cell_type": "markdown",
   "metadata": {},
   "source": [
    "## Outliers\n",
    "Um outlier é um valor anormalmente maior ou menor que os outros valores de uma mesma variável (_array_). Eles costumam atrapalhar análises e métodos estatísticos por serem uma anomalia. Vamos definirmos um outlier como qualquer valor da variável X que esteja distante da média de X por mais de 3 vezes o desvio padrão de X. Liste os outliers da variável abaixo:"
   ]
  },
  {
   "cell_type": "code",
   "execution_count": null,
   "metadata": {},
   "outputs": [],
   "source": [
    "a = np.array([-16.6, -145.72, 66.36, -197.01, -118.13, 133.02, 117.31, 83.64, 103.38, \n",
    "              61.06, 129.33, -85.02, -202.67, 86.2, -66.51, -40.59, 39.86, 24.75, 15.58, \n",
    "              3023.3, 59.52, -89.94, 61.73, -55.74, -31.21, -150.92, 122.08, 44.03, 6.66, \n",
    "              129.76, -105.09, 113.48, -178.97, -71.71, -66.32, 55.31, 41.04, 107.6, 81.87, \n",
    "              2430.6, -140.71, -98.84, 52.57, 3.2, 22.77, -81.76, -49.85, 162.47, 167.89, 75.32])"
   ]
  },
  {
   "cell_type": "code",
   "execution_count": null,
   "metadata": {},
   "outputs": [],
   "source": []
  },
  {
   "cell_type": "markdown",
   "metadata": {},
   "source": [
    "## Voltemos à Lenna, agora com cores!\n",
    "Como você acha que a representação deveria ser para podermos ter cor?"
   ]
  },
  {
   "cell_type": "code",
   "execution_count": null,
   "metadata": {},
   "outputs": [],
   "source": [
    "img = imread('lenna.png')\n",
    "imshow(img)"
   ]
  },
  {
   "cell_type": "code",
   "execution_count": null,
   "metadata": {},
   "outputs": [],
   "source": [
    "img.shape"
   ]
  },
  {
   "cell_type": "markdown",
   "metadata": {},
   "source": [
    "### Exercícios\n",
    "Como seria essa imagem sem nenhum tom verde? Coloque 0 no canal verde e plote a imagem:"
   ]
  },
  {
   "cell_type": "code",
   "execution_count": null,
   "metadata": {},
   "outputs": [],
   "source": []
  },
  {
   "cell_type": "markdown",
   "metadata": {},
   "source": [
    "Qual é a cor predominante dessa imagem? Mostre com números :)"
   ]
  },
  {
   "cell_type": "code",
   "execution_count": null,
   "metadata": {},
   "outputs": [],
   "source": []
  },
  {
   "cell_type": "markdown",
   "metadata": {},
   "source": [
    "Transforme essa imagem em uma imagem preto e branco! Como você acha que podemos fazer isso?"
   ]
  },
  {
   "cell_type": "code",
   "execution_count": null,
   "metadata": {},
   "outputs": [],
   "source": []
  },
  {
   "cell_type": "markdown",
   "metadata": {},
   "source": [
    "## Case: Alturas dos pais e filhos\n",
    "Vamos dar uma investigada em um dataset clássico de alturas. A principal pergunta que queremos responder é: existe alguma correlação entre a altura dos pais e de seus filhos?"
   ]
  },
  {
   "cell_type": "code",
   "execution_count": null,
   "metadata": {},
   "outputs": [],
   "source": [
    "heights = 2.54*utils.load_heights()"
   ]
  },
  {
   "cell_type": "markdown",
   "metadata": {},
   "source": [
    "A primeira coluna contém as alturas dos pais e a segunda dos filhos. Porém as alturas estão em polegadas, mas queremos elas em centímetros. Além disso, para facilitar algumas análises, vamos criar um vetor 1D para os filhos e um para os pais:"
   ]
  },
  {
   "cell_type": "code",
   "execution_count": null,
   "metadata": {},
   "outputs": [],
   "source": []
  },
  {
   "cell_type": "markdown",
   "metadata": {},
   "source": [
    "Agora queremos responder algumas perguntas básicas primeiro:\n",
    "\n",
    "* Quantos elementos/exemplos temos na nossa base?\n",
    "* Qual o índice do filho mais baixo e do pai mais alto?\n",
    "* Qual a probabilidade de um filho ser mais alto que seu pai?\n",
    "* Estamos ficando mais altos ou mais baixos com o tempo?"
   ]
  },
  {
   "cell_type": "code",
   "execution_count": null,
   "metadata": {},
   "outputs": [],
   "source": [
    "print('instancias:', len(f))\n",
    "print('filho mais baixo:', np.argmin(f))\n",
    "print('pai mais alto:', np.argmax(p))\n",
    "print('probabilidade:', (f > p).mean())"
   ]
  },
  {
   "cell_type": "markdown",
   "metadata": {},
   "source": [
    "Agora vamos plotar nossos pontos usando Matplotlib:"
   ]
  },
  {
   "cell_type": "code",
   "execution_count": null,
   "metadata": {},
   "outputs": [],
   "source": []
  },
  {
   "cell_type": "markdown",
   "metadata": {},
   "source": [
    "O que você acha da correlação? Se você tivesse que advinhar a altura do filho de uma pessoa com 160cm, qual seria seu melhor palpite?\n",
    "\n",
    "Talvez 165cm?\n",
    "\n",
    "Essa reta imaginária que visualizamos é um modelo que recebe a altura do pai e preve a altura do filho. Esse modelo pode ser visto como uma função `f(x) = y`, onde x é a altura do pai e y é a altura do filho.\n",
    "\n",
    "Vocês conseguem definir essa função?"
   ]
  },
  {
   "cell_type": "code",
   "execution_count": null,
   "metadata": {},
   "outputs": [],
   "source": [
    "def predict(p):\n",
    "    return 0.8*p + 35"
   ]
  },
  {
   "cell_type": "markdown",
   "metadata": {},
   "source": [
    "Vamos revistar nossa resposta anterior usando nossa nova função:"
   ]
  },
  {
   "cell_type": "code",
   "execution_count": null,
   "metadata": {},
   "outputs": [],
   "source": []
  },
  {
   "cell_type": "markdown",
   "metadata": {},
   "source": [
    "Porém nós achamos essa reta no olhão. Se usarmos um número ligeiramente diferente, como podemos saber se a reta é melhor ou pior que outras que tentamos? Vamos definir nossa função de erro, que vai contabilizar todos nossos erros:"
   ]
  },
  {
   "cell_type": "code",
   "execution_count": null,
   "metadata": {},
   "outputs": [],
   "source": []
  },
  {
   "cell_type": "code",
   "execution_count": null,
   "metadata": {},
   "outputs": [],
   "source": []
  },
  {
   "cell_type": "code",
   "execution_count": null,
   "metadata": {},
   "outputs": [],
   "source": []
  },
  {
   "cell_type": "markdown",
   "metadata": {},
   "source": [
    "Agora vamos comparar nossos resultados com os do sklearn. Aposto que os nossos são melhores!"
   ]
  },
  {
   "cell_type": "code",
   "execution_count": null,
   "metadata": {},
   "outputs": [],
   "source": [
    "from sklearn.linear_model import LinearRegression\n",
    "\n",
    "lr = LinearRegression()\n",
    "lr.fit(p.reshape(-1,1), f)"
   ]
  },
  {
   "cell_type": "code",
   "execution_count": null,
   "metadata": {},
   "outputs": [],
   "source": []
  },
  {
   "cell_type": "code",
   "execution_count": null,
   "metadata": {},
   "outputs": [],
   "source": []
  },
  {
   "cell_type": "markdown",
   "metadata": {},
   "source": [
    "**Pra casa:** Tente substituir esses valores na nossa função predict e plotar a reta. Ela parece fazer sentido?\n",
    "\n",
    "## Case: Canceres benignos e malignos\n",
    "Vamos trabalhar com um dataset famoso que contém medidas clínicas de diferentes tumores diagnosticados. Cada linha representa um tumor que eventualmente foi diagnosticado como benigno ou maligno. Vamos tentar responder algumas perguntas sobre esses dados.\n",
    "\n",
    "* Quantos tumores temos no dataset? Quantas medidas pra cada tumor? E qual a porcentagem de benígnos?\n",
    "* Queremos ter uma idéia dos dados que estamos trabalhando. Calcule a média, desvio padrão, mínimo, máximo de cada atributo/variável (aqui você pode usar um for para iterar nos atributos).\n",
    "* Existem outliers nesse dataset? Conte o número de outliers de cada variável. Escolha uma variável com outliers (de preferência a que mais tem) e limite esses valores em um intervalo razoável para evitar que esses valores afetem nossa regressão.\n",
    "* As variáveis assumem intervalos muito diferentes, portanto queremos normalizá-as. Faça com que cada variável esteja limitada entre 0 e 1 (basta subtrair cada elemento pelo menor valor e dividir pelo maior valor).\n",
    "* Se você pudesse usar somente uma variável para identificar se um tumor é maligno ou benigno, como você encontraria a mais informativa? Qual valor de corte você usaria?"
   ]
  },
  {
   "cell_type": "code",
   "execution_count": null,
   "metadata": {},
   "outputs": [],
   "source": [
    "features, values, is_benign = utils.load_cancer()"
   ]
  },
  {
   "cell_type": "markdown",
   "metadata": {},
   "source": [
    "Esses exercícios são um pouco mais difíceis, mas são bem próximos das tarefas do dia-a-dia de um cientista de dados. Case não entenda alguma solução, separe e inspecione as várias partes do comando e tente entender cada uma delas individualmente.\n",
    "\n",
    "Quantos tumores temos no dataset? Quantas medidas/features/atributos temos pra cada tumor? E qual a porcentagem de benígnos?"
   ]
  },
  {
   "cell_type": "code",
   "execution_count": null,
   "metadata": {},
   "outputs": [],
   "source": [
    "print('# tumores:', ?)\n",
    "print('# medidas:', ?)\n",
    "print('% benignos:', ?)"
   ]
  },
  {
   "cell_type": "markdown",
   "metadata": {},
   "source": [
    "Queremos ter uma idéia dos dados que estamos trabalhando. Calcule a média, desvio padrão, mínimo, máximo de cada atributo/variável (aqui você pode usar um for para iterar nos atributos)."
   ]
  },
  {
   "cell_type": "code",
   "execution_count": null,
   "metadata": {},
   "outputs": [],
   "source": []
  },
  {
   "cell_type": "markdown",
   "metadata": {},
   "source": [
    "Existem outliers nesse dataset? Conte o número de outliers de cada variável. Escolha uma variável com outliers (de preferência a que mais tem) e limite esses valores em um intervalo razoável para evitar que esses valores afetem nossa regressão."
   ]
  },
  {
   "cell_type": "code",
   "execution_count": null,
   "metadata": {},
   "outputs": [],
   "source": []
  },
  {
   "cell_type": "markdown",
   "metadata": {},
   "source": [
    "A maioria das features possui outliers. Vamos achar a que mais tem e substituir os outliers pelo valor que consideramos o máximo aceitável, a média mais três o desvio padrão."
   ]
  },
  {
   "cell_type": "code",
   "execution_count": null,
   "metadata": {},
   "outputs": [],
   "source": []
  },
  {
   "cell_type": "code",
   "execution_count": null,
   "metadata": {},
   "outputs": [],
   "source": []
  },
  {
   "cell_type": "markdown",
   "metadata": {},
   "source": [
    "Por simplicidade, desconsideramos que podem ter outliers muito pequenos também, que poderiam ser tratados de forma semelhante, mas verificando se eles violam o limite inferior, não o superior.\n",
    "\n",
    "As variáveis assumem intervalos muito diferentes, portanto queremos normalizá-as. Faça com que cada variável esteja limitada entre 0 e 1 (basta subtrair cada elemento pelo menor valor e dividir pelo diferença entre o maior valor e o menor)."
   ]
  },
  {
   "cell_type": "code",
   "execution_count": null,
   "metadata": {},
   "outputs": [],
   "source": []
  },
  {
   "cell_type": "markdown",
   "metadata": {},
   "source": [
    "Se você pudesse usar somente uma variável para identificar se um tumor é maligno ou benigno, como você encontraria a mais informativa? Qual valor de corte você usaria?\n",
    "\n",
    "Modelos estatísticos são úteis exatamente para combinar todas features e chegar em uma resposta. Porém enquanto não aprendemos como usá-los, podemos tentar fazer análises univariadas (usam somente uma feature para tomar uma decisão).\n",
    "\n",
    "Uma forma de encontrar as variáveis com maior correlação com a informação que queremos prever é calcular a média das features para os grupos que queremos prever separadamente. Ou seja, se a média da feature `worst_concave_points` é 98 para todos os tumores benignos e 210 para todos os malígnos, é possível que essa feature seja discriminatória em relação ao tipo de tumor. Ou seja, talvez podemos achar um valor C tal que uma regra \"se `worst_concave_points` > C então o tumor é maligno\" seja razoavelmente precisa."
   ]
  },
  {
   "cell_type": "code",
   "execution_count": null,
   "metadata": {},
   "outputs": [],
   "source": []
  },
  {
   "cell_type": "markdown",
   "metadata": {},
   "source": [
    "Agora ordenamos as features com a maior diferença absoluta:"
   ]
  },
  {
   "cell_type": "code",
   "execution_count": null,
   "metadata": {},
   "outputs": [],
   "source": []
  },
  {
   "cell_type": "code",
   "execution_count": null,
   "metadata": {},
   "outputs": [],
   "source": []
  },
  {
   "cell_type": "markdown",
   "metadata": {},
   "source": [
    "Como valor C podemos usar o valor bem no meio das médias de cada tipo de tumor:"
   ]
  },
  {
   "cell_type": "code",
   "execution_count": null,
   "metadata": {},
   "outputs": [],
   "source": []
  },
  {
   "cell_type": "markdown",
   "metadata": {},
   "source": [
    "Caso não seja óbvio para você, tente se convencer que `(a + b)/2` é sempre o valor perfeitamente entre a e b.\n",
    "\n",
    "Só falta saber se são os valores maiores que V são os benignos ou os malignos:"
   ]
  },
  {
   "cell_type": "code",
   "execution_count": null,
   "metadata": {},
   "outputs": [],
   "source": []
  },
  {
   "cell_type": "markdown",
   "metadata": {},
   "source": [
    "Ok, os benignos tem a média menor, então nossa regra é (feature_value < C) => benigno."
   ]
  },
  {
   "cell_type": "code",
   "execution_count": null,
   "metadata": {},
   "outputs": [],
   "source": []
  },
  {
   "cell_type": "markdown",
   "metadata": {},
   "source": [
    "Agora que temos uma vetor de predições usando nossa regra, podemos comparar com a verdade e ver como nos saímos:"
   ]
  },
  {
   "cell_type": "code",
   "execution_count": null,
   "metadata": {},
   "outputs": [],
   "source": []
  },
  {
   "cell_type": "markdown",
   "metadata": {},
   "source": [
    "Isso quer dizer que criamos uma regra (que pode ser considerado um modelo simples) somente a partir dos dados (sem nenhum conhecimento de domínio), e sem utilizar nenhuma lib de machine learning, que consegue detectar se um tumor é maligno ou benigno com 90% de precisão.\n",
    "\n",
    "Not bad, eu diria!\n",
    "\n",
    "Em uma aplicação real teríamos reservado parte dos dados para validar nosso modelo, ignorando esses dados até a última parte onde aplicamos a regra e medimos a precisão. É como se esses dados fossem do futuro, onde já aprendemos a regra e estamos somente aplicando ela em novos pacientes. Isso evita algo que veremos mais para frente como overfitting."
   ]
  },
  {
   "cell_type": "code",
   "execution_count": null,
   "metadata": {},
   "outputs": [],
   "source": []
  }
 ],
 "metadata": {
  "kernelspec": {
   "display_name": "Python 3",
   "language": "python",
   "name": "python3"
  },
  "language_info": {
   "codemirror_mode": {
    "name": "ipython",
    "version": 3
   },
   "file_extension": ".py",
   "mimetype": "text/x-python",
   "name": "python",
   "nbconvert_exporter": "python",
   "pygments_lexer": "ipython3",
   "version": "3.6.5"
  }
 },
 "nbformat": 4,
 "nbformat_minor": 2
}
