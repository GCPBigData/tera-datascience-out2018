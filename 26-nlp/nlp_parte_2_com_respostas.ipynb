{
 "cells": [
  {
   "cell_type": "markdown",
   "metadata": {},
   "source": [
    "# Aula #26 – Processamento de Linguagem Natural & Análise de Sentimento"
   ]
  },
  {
   "cell_type": "markdown",
   "metadata": {},
   "source": [
    "# Word2vec\n",
    "\n",
    "Já vimos antes que é possível transformar um texto em _features_ numéricas. Uma sofisticação do método _Bag of words_ é incorporar o contexto das palavras vizinhas nessas _features_ (é comum chamar o vetor de _features_ numéricas de _embedding_).\n",
    "\n",
    "Imagine que nossa janela de contexto (context window) tem tamanho 5 (2 palavras _antes_ e 2 palavras _depois_ da palavra _central_).\n",
    "\n",
    "Então, se a frase fosse `The quick brown fox jumps over the lazy dog`, teríamos as seguintes janelas:\n",
    "\n",
    "<img src=\"data/nb_figs/windows_word2vec.png\" width=\"600\"/>\n",
    "\n",
    "Para cada uma das janelas formadas, temos o vetor correspondente a elas (usando o _Bag of words_ binário - com apenas 0s e 1s; também chamado de `one-hot encoding`):\n",
    "\n",
    "<img src=\"data/nb_figs/one_hot_encoding_word2vec.png\" width=\"600\"/>\n",
    "\n",
    "Há duas arquiteturas possíveis para se obter os `embeddings` word2vec. Uma delas é chamada de `CBoW` (_Continuous Bag of Words_) e outra é chamada de `Skip gram`. Aqui, vamos focar no `Skip gram`, que considera como input o vetor da palavra central da janela, e como output, os vetores do contexto. O objetivo do algoritmo é aprender os pesos da _hidden layer_, de forma que as probabilidades finais sejam condizentes com as co-ocorrências das palavras em nosso _corpus_ de documentos.\n",
    "\n",
    "<img src=\"data/nb_figs/nn_word2vec_large.png\" width=\"800\"/>\n",
    "\n",
    "Ao final do treinamento, a matriz correspondente à _hidden layer_, com 10 mil (tamanho do vocabulário) linhas e 300 (quantidade de dimensões do _embedding_) colunas será tal que cada linha representará o embedding de uma palavra do vocabulário.\n",
    "\n",
    "Para saber mais sobre `word2vec`, leia em:\n",
    "\n",
    "* http://mccormickml.com/2016/04/19/word2vec-tutorial-the-skip-gram-model/\n",
    "* https://nathanrooy.github.io/posts/2018-03-22/word2vec-from-scratch-with-python-and-numpy/\n",
    "* https://blog.acolyer.org/2016/04/21/the-amazing-power-of-word-vectors/"
   ]
  },
  {
   "cell_type": "markdown",
   "metadata": {},
   "source": [
    "## Similaridade entre ingredientes - uma aplicação do _word2vec_ a um dataset de receitas\n",
    "\n",
    "O dataset utilizado aqui compreende os datasets de treino e teste do [Recipe Ingredients Dataset do Kaggle](https://www.kaggle.com/kaggle/recipe-ingredients-dataset).\n",
    "\n",
    "A ideia é treinar um modelo `word2vec` usando a biblioteca [gensim](https://radimrehurek.com/gensim/index.html) e depois construirmos uma aplicação pela qual seja possível obter uma lista dos ingredientes mais similares a um determinado ingrediente. Vamos tentar?"
   ]
  },
  {
   "cell_type": "markdown",
   "metadata": {},
   "source": [
    "### Leitura do dataset"
   ]
  },
  {
   "cell_type": "code",
   "execution_count": 1,
   "metadata": {},
   "outputs": [],
   "source": [
    "import pandas as pd"
   ]
  },
  {
   "cell_type": "code",
   "execution_count": 2,
   "metadata": {},
   "outputs": [],
   "source": [
    "df = pd.read_json('data/datasets/kaggle_recipes/recipes.json').reset_index(drop=True)"
   ]
  },
  {
   "cell_type": "code",
   "execution_count": 3,
   "metadata": {},
   "outputs": [
    {
     "data": {
      "text/html": [
       "<div>\n",
       "<style scoped>\n",
       "    .dataframe tbody tr th:only-of-type {\n",
       "        vertical-align: middle;\n",
       "    }\n",
       "\n",
       "    .dataframe tbody tr th {\n",
       "        vertical-align: top;\n",
       "    }\n",
       "\n",
       "    .dataframe thead th {\n",
       "        text-align: right;\n",
       "    }\n",
       "</style>\n",
       "<table border=\"1\" class=\"dataframe\">\n",
       "  <thead>\n",
       "    <tr style=\"text-align: right;\">\n",
       "      <th></th>\n",
       "      <th>cuisine</th>\n",
       "      <th>id</th>\n",
       "      <th>ingredients</th>\n",
       "    </tr>\n",
       "  </thead>\n",
       "  <tbody>\n",
       "    <tr>\n",
       "      <th>0</th>\n",
       "      <td>greek</td>\n",
       "      <td>10259</td>\n",
       "      <td>[romaine lettuce, black olives, grape tomatoes...</td>\n",
       "    </tr>\n",
       "    <tr>\n",
       "      <th>1</th>\n",
       "      <td>southern_us</td>\n",
       "      <td>25693</td>\n",
       "      <td>[plain flour, ground pepper, salt, tomatoes, g...</td>\n",
       "    </tr>\n",
       "    <tr>\n",
       "      <th>2</th>\n",
       "      <td>italian</td>\n",
       "      <td>5875</td>\n",
       "      <td>[pimentos, sweet pepper, dried oregano, olive ...</td>\n",
       "    </tr>\n",
       "    <tr>\n",
       "      <th>3</th>\n",
       "      <td>italian</td>\n",
       "      <td>17636</td>\n",
       "      <td>[tomato sauce, shredded carrots, spinach, part...</td>\n",
       "    </tr>\n",
       "    <tr>\n",
       "      <th>4</th>\n",
       "      <td>italian</td>\n",
       "      <td>36837</td>\n",
       "      <td>[marinara sauce, goat cheese, minced garlic, s...</td>\n",
       "    </tr>\n",
       "  </tbody>\n",
       "</table>\n",
       "</div>"
      ],
      "text/plain": [
       "       cuisine     id                                        ingredients\n",
       "0        greek  10259  [romaine lettuce, black olives, grape tomatoes...\n",
       "1  southern_us  25693  [plain flour, ground pepper, salt, tomatoes, g...\n",
       "2      italian   5875  [pimentos, sweet pepper, dried oregano, olive ...\n",
       "3      italian  17636  [tomato sauce, shredded carrots, spinach, part...\n",
       "4      italian  36837  [marinara sauce, goat cheese, minced garlic, s..."
      ]
     },
     "execution_count": 3,
     "metadata": {},
     "output_type": "execute_result"
    }
   ],
   "source": [
    "df.head()"
   ]
  },
  {
   "cell_type": "markdown",
   "metadata": {},
   "source": [
    "## Treinamento do _word2vec_\n",
    "\n",
    "**Tarefa:** Treine um modelo word2vec usando os dados da coluna `ingredients` (`words_list`)\n",
    "\n",
    "Dica: Leia a documentação sobre a classe `Word2Vec`"
   ]
  },
  {
   "cell_type": "code",
   "execution_count": 5,
   "metadata": {},
   "outputs": [],
   "source": [
    "from gensim.models import Word2Vec"
   ]
  },
  {
   "cell_type": "code",
   "execution_count": 4,
   "metadata": {},
   "outputs": [
    {
     "name": "stdout",
     "output_type": "stream",
     "text": [
      "Object `Word2Vec` not found.\n"
     ]
    }
   ],
   "source": [
    "?Word2Vec"
   ]
  },
  {
   "cell_type": "code",
   "execution_count": 6,
   "metadata": {},
   "outputs": [],
   "source": [
    "words_list = df['ingredients'].tolist()"
   ]
  },
  {
   "cell_type": "code",
   "execution_count": 7,
   "metadata": {},
   "outputs": [
    {
     "name": "stdout",
     "output_type": "stream",
     "text": [
      "CPU times: user 7.77 s, sys: 25 ms, total: 7.8 s\n",
      "Wall time: 2.4 s\n"
     ]
    }
   ],
   "source": [
    "%%time\n",
    "model = Word2Vec(words_list, size=300, window=5, min_count=1, workers=4)"
   ]
  },
  {
   "cell_type": "markdown",
   "metadata": {},
   "source": [
    "Podemos também salvar o modelo (**posteriormente vamos usá-lo para visualização**)"
   ]
  },
  {
   "cell_type": "code",
   "execution_count": 27,
   "metadata": {},
   "outputs": [],
   "source": [
    "model.save('data/gensim.model')"
   ]
  },
  {
   "cell_type": "markdown",
   "metadata": {},
   "source": [
    "### Similaridade entre vetores\n",
    "\n",
    "Em modelos vetoriais de linguagem, em geral, utiliza-se a similaridade de cosseno como medida de similaridade entre dois vetores, já que ela captura a noção de que vetores apontando para a mesma direção são próximos."
   ]
  },
  {
   "cell_type": "code",
   "execution_count": 8,
   "metadata": {},
   "outputs": [],
   "source": [
    "from scipy.spatial.distance import cosine"
   ]
  },
  {
   "cell_type": "code",
   "execution_count": 9,
   "metadata": {},
   "outputs": [],
   "source": [
    "gelato_vec = model.wv['gelato']\n",
    "sorbet_vec = model.wv['sorbet']"
   ]
  },
  {
   "cell_type": "code",
   "execution_count": 10,
   "metadata": {},
   "outputs": [],
   "source": [
    "def similarity_between_vec(vec1, vec2):\n",
    "    return 1 - cosine(vec1, vec2)"
   ]
  },
  {
   "cell_type": "code",
   "execution_count": 11,
   "metadata": {},
   "outputs": [
    {
     "data": {
      "text/plain": [
       "0.94631218910217285"
      ]
     },
     "execution_count": 11,
     "metadata": {},
     "output_type": "execute_result"
    }
   ],
   "source": [
    "similarity_between_vec(gelato_vec, sorbet_vec)"
   ]
  },
  {
   "cell_type": "markdown",
   "metadata": {},
   "source": [
    "### Termos mais comuns\n",
    "\n",
    "Vamos ver quais são os termos mais comuns do dataset?"
   ]
  },
  {
   "cell_type": "code",
   "execution_count": 12,
   "metadata": {},
   "outputs": [],
   "source": [
    "from collections import Counter"
   ]
  },
  {
   "cell_type": "code",
   "execution_count": 13,
   "metadata": {},
   "outputs": [],
   "source": [
    "all_ingredients = sum(df['ingredients'].tolist(), [])"
   ]
  },
  {
   "cell_type": "code",
   "execution_count": 14,
   "metadata": {},
   "outputs": [
    {
     "data": {
      "text/plain": [
       "[('salt', 22534),\n",
       " ('onions', 10008),\n",
       " ('olive oil', 9889),\n",
       " ('water', 9293),\n",
       " ('garlic', 9171),\n",
       " ('sugar', 8064),\n",
       " ('garlic cloves', 7772),\n",
       " ('butter', 6078),\n",
       " ('ground black pepper', 5990),\n",
       " ('all-purpose flour', 5816),\n",
       " ('vegetable oil', 5516),\n",
       " ('pepper', 5508),\n",
       " ('eggs', 4262),\n",
       " ('soy sauce', 4120),\n",
       " ('kosher salt', 3930),\n",
       " ('green onions', 3817),\n",
       " ('tomatoes', 3812),\n",
       " ('large eggs', 3700),\n",
       " ('carrots', 3542),\n",
       " ('unsalted butter', 3474)]"
      ]
     },
     "execution_count": 14,
     "metadata": {},
     "output_type": "execute_result"
    }
   ],
   "source": [
    "Counter(all_ingredients).most_common(20)"
   ]
  },
  {
   "cell_type": "markdown",
   "metadata": {},
   "source": [
    "### Os mais próximos\n",
    "\n",
    "Um método legal do objeto `Word2VecKeyedVectors` é o `most_similar`, que retorna as palavras mais similares a uma determinada palavra. Note que podemos modificar a quantidade de itens retornados, colocando um valor para parâmetro `topn` (por padrão, ele é 10).\n",
    "\n",
    "**Tarefa:** brinque até ficar satisfeito.\n",
    "\n",
    "As relações fazem sentido?"
   ]
  },
  {
   "cell_type": "code",
   "execution_count": 15,
   "metadata": {},
   "outputs": [
    {
     "data": {
      "text/plain": [
       "\u001b[0;31mSignature:\u001b[0m \u001b[0mmodel\u001b[0m\u001b[0;34m.\u001b[0m\u001b[0mwv\u001b[0m\u001b[0;34m.\u001b[0m\u001b[0mmost_similar\u001b[0m\u001b[0;34m(\u001b[0m\u001b[0mpositive\u001b[0m\u001b[0;34m=\u001b[0m\u001b[0;32mNone\u001b[0m\u001b[0;34m,\u001b[0m \u001b[0mnegative\u001b[0m\u001b[0;34m=\u001b[0m\u001b[0;32mNone\u001b[0m\u001b[0;34m,\u001b[0m \u001b[0mtopn\u001b[0m\u001b[0;34m=\u001b[0m\u001b[0;36m10\u001b[0m\u001b[0;34m,\u001b[0m \u001b[0mrestrict_vocab\u001b[0m\u001b[0;34m=\u001b[0m\u001b[0;32mNone\u001b[0m\u001b[0;34m,\u001b[0m \u001b[0mindexer\u001b[0m\u001b[0;34m=\u001b[0m\u001b[0;32mNone\u001b[0m\u001b[0;34m)\u001b[0m\u001b[0;34m\u001b[0m\u001b[0m\n",
       "\u001b[0;31mDocstring:\u001b[0m\n",
       "Find the top-N most similar words. Positive words contribute positively towards the\n",
       "similarity, negative words negatively.\n",
       "\n",
       "This method computes cosine similarity between a simple mean of the projection\n",
       "weight vectors of the given words and the vectors for each word in the model.\n",
       "The method corresponds to the `word-analogy` and `distance` scripts in the original\n",
       "word2vec implementation.\n",
       "\n",
       "Parameters\n",
       "----------\n",
       "positive : :obj: `list` of :obj: `str`\n",
       "    List of words that contribute positively.\n",
       "negative : :obj: `list` of :obj: `str`\n",
       "    List of words that contribute negatively.\n",
       "topn : int\n",
       "    Number of top-N similar words to return.\n",
       "restrict_vocab : int\n",
       "    Optional integer which limits the range of vectors which\n",
       "    are searched for most-similar values. For example, restrict_vocab=10000 would\n",
       "    only check the first 10000 word vectors in the vocabulary order. (This may be\n",
       "    meaningful if you've sorted the vocabulary by descending frequency.)\n",
       "\n",
       "Returns\n",
       "-------\n",
       ":obj: `list` of :obj: `tuple`\n",
       "    Returns a list of tuples (word, similarity)\n",
       "\n",
       "Examples\n",
       "--------\n",
       ">>> trained_model.most_similar(positive=['woman', 'king'], negative=['man'])\n",
       "[('queen', 0.50882536), ...]\n",
       "\u001b[0;31mFile:\u001b[0m      ~/miniconda3/envs/tera-out2018/lib/python3.6/site-packages/gensim/models/keyedvectors.py\n",
       "\u001b[0;31mType:\u001b[0m      method\n"
      ]
     },
     "metadata": {},
     "output_type": "display_data"
    }
   ],
   "source": [
    "?model.wv.most_similar"
   ]
  },
  {
   "cell_type": "code",
   "execution_count": 16,
   "metadata": {},
   "outputs": [
    {
     "data": {
      "text/plain": [
       "[('meat', 0.9136514663696289),\n",
       " ('crushed garlic', 0.8827866911888123),\n",
       " ('red pepper', 0.8489529490470886),\n",
       " ('green chilies', 0.842720627784729),\n",
       " ('red capsicum', 0.8422629833221436),\n",
       " ('beans', 0.839532732963562),\n",
       " ('white rice', 0.8390321135520935),\n",
       " ('coriander', 0.8353259563446045),\n",
       " ('beef', 0.8336541056632996),\n",
       " ('chili pepper', 0.8320420980453491)]"
      ]
     },
     "execution_count": 16,
     "metadata": {},
     "output_type": "execute_result"
    }
   ],
   "source": [
    "model.wv.most_similar('rice')"
   ]
  },
  {
   "cell_type": "markdown",
   "metadata": {},
   "source": [
    "**Tarefa:** Imprima os mais similares para os 5 ingredientes mais comuns obtidos anteriormente. "
   ]
  },
  {
   "cell_type": "code",
   "execution_count": 17,
   "metadata": {},
   "outputs": [
    {
     "name": "stdout",
     "output_type": "stream",
     "text": [
      "[('sea salt', 0.6209412813186646), ('Knorr Chicken Stock Pots', 0.5803229212760925), ('jamon serrano', 0.5768339037895203), ('cherry brandy', 0.5719507932662964), ('Cavenders Greek Seasoning', 0.567180335521698), ('low fat mild Italian turkey sausage', 0.5446319580078125), ('duck drippings', 0.5384557247161865), ('chicken flavored rice', 0.5364551544189453), ('all-purpose flour', 0.5356296300888062), ('whole wheat cheese tortellini', 0.5271487832069397)]\n",
      "[('yellow onion', 0.7690353393554688), ('bay leaf', 0.6858698129653931), ('red kidney beans', 0.6845734119415283), ('non fat chicken stock', 0.6810021996498108), ('chicken', 0.6734088063240051), ('frozen peas', 0.6675690412521362), ('salt free seasoning', 0.6660045385360718), ('chicken thighs', 0.6639171838760376), ('chicken broth low fat', 0.6581171154975891), ('lentils', 0.6546423435211182)]\n",
      "[('extra-virgin olive oil', 0.7708823680877686), ('hillshire farms low fat sausage', 0.7361643314361572), ('roasted red peppers', 0.6835333704948425), ('olives', 0.6816139221191406), ('crushed tomatoes', 0.6812253594398499), ('green olives', 0.6784576177597046), ('fresh oregano', 0.6735391020774841), ('linguisa', 0.6735213398933411), ('feta cheese', 0.6734015941619873), ('artichoke hearts', 0.6714451313018799)]\n",
      "[('black pepper', 0.6593980193138123), ('pickapeppa sauce', 0.6571277379989624), ('fresh ginger root', 0.6316606998443604), ('peppercorns', 0.623314619064331), ('boneless skin on chicken thighs', 0.6203651428222656), ('whole peppercorn', 0.6152669191360474), ('broth', 0.6149107217788696), ('burgundy wine', 0.61341392993927), ('white pepper', 0.6130664944648743), ('curry powder', 0.6059780120849609)]\n",
      "[('crushed garlic', 0.7348726391792297), ('crushed red pepper flakes', 0.7133113741874695), ('minced garlic', 0.7041091918945312), ('red pepper', 0.7002809643745422), ('red pepper flakes', 0.684848964214325), ('peas', 0.6662646532058716), ('vegetable stock', 0.6564056873321533), ('chopped garlic', 0.6523714661598206), ('rice', 0.6457274556159973), ('low sodium chicken stock', 0.6396408081054688)]\n"
     ]
    }
   ],
   "source": [
    "for ingredient, _ in Counter(all_ingredients).most_common(5):\n",
    "    print(model.wv.most_similar(ingredient))"
   ]
  },
  {
   "cell_type": "markdown",
   "metadata": {},
   "source": [
    "## Visualização das relações entre os ingredientes\n",
    "\n",
    "Vamos agora construir uma ferramenta que permite:\n",
    "\n",
    "1. buscar o nome de um ingrediente\n",
    "2. retornar os ingredientes mais próximos (que não são ele mesmo)\n",
    "\n",
    "Para fazer isso, vamos usar novamente o recurso `widgets`. A função [interact](https://ipywidgets.readthedocs.io/en/stable/examples/Using%20Interact.html#Basic-interact) permite que ao digitar o nome do ingrediente, já iniciemos a busca por ele na lista de ingredientes disponível (variável `VOCAB` declarada abaixo). Ela também vai nos permitir mostrar os ingredientes disponíveis retornados pela busca e garantir que quando for selecionado um ingrediente, seja disparado o cálculo dos ingredientes mais próximos."
   ]
  },
  {
   "cell_type": "code",
   "execution_count": 18,
   "metadata": {},
   "outputs": [],
   "source": [
    "from ipywidgets import interact, widgets"
   ]
  },
  {
   "cell_type": "code",
   "execution_count": 19,
   "metadata": {},
   "outputs": [],
   "source": [
    "from IPython.display import Markdown, display\n",
    "\n",
    "def printmd(string):\n",
    "    display(Markdown(string))"
   ]
  },
  {
   "cell_type": "code",
   "execution_count": 20,
   "metadata": {},
   "outputs": [],
   "source": [
    "VOCAB = set(model.wv.vocab.keys())"
   ]
  },
  {
   "cell_type": "markdown",
   "metadata": {},
   "source": [
    "**Tarefa:** Complete a função abaixo, que dado um ingrediente (`ingredient`), retorna os ingredientes mais similares, sem mostrar os ingredientes que contêm o nome do ingrediente de input (ou seja, `pasta` não deve retornar `farfalle pasta`, por exemplo)."
   ]
  },
  {
   "cell_type": "code",
   "execution_count": 21,
   "metadata": {},
   "outputs": [],
   "source": [
    "def get_similar(ingredient):\n",
    "    \"\"\"Returns the most similar ingredients to a selected `ingredient`,\n",
    "        excluding ingredients which contain the name of the ingredient\n",
    "    \"\"\"\n",
    "    return [w for w, _ in model.wv.most_similar(ingredient) if ingredient not in w]"
   ]
  },
  {
   "cell_type": "code",
   "execution_count": 22,
   "metadata": {},
   "outputs": [],
   "source": [
    "def show_most_similar(ingredient):\n",
    "    \"\"\"Print the most similar ingredients to a selected `ingredient`\n",
    "    \"\"\"\n",
    "    if ingredient == '':\n",
    "        printmd('')\n",
    "    else:\n",
    "        for w in get_similar(ingredient):\n",
    "            printmd(f'* {w}')"
   ]
  },
  {
   "cell_type": "code",
   "execution_count": 23,
   "metadata": {},
   "outputs": [],
   "source": [
    "def search_text(text):\n",
    "    style = {'description_width': 'initial'}\n",
    "    options = [v for v in VOCAB if text.lower() in v]\n",
    "    if text in options:\n",
    "        options.remove(text)\n",
    "        options = [text] + sorted(options)\n",
    "    dropdown_widget = widgets.Dropdown(\n",
    "        options=options,\n",
    "        description='Available ingredient:',\n",
    "        disabled=False,\n",
    "        style=style\n",
    "    )\n",
    "    interact(show_most_similar, ingredient=dropdown_widget)"
   ]
  },
  {
   "cell_type": "code",
   "execution_count": 24,
   "metadata": {},
   "outputs": [],
   "source": [
    "w = widgets.Text(\n",
    "    value='peanut butter',\n",
    "    description='Type ingredient name:',\n",
    "    disabled=False,\n",
    "    style={'description_width': 'initial'}\n",
    ")"
   ]
  },
  {
   "cell_type": "markdown",
   "metadata": {},
   "source": [
    "**Tarefa:** Teste nossa recém-construída ferramenta e verifique se existem normalizações no texto que você acharia bom fazer."
   ]
  },
  {
   "cell_type": "code",
   "execution_count": 25,
   "metadata": {},
   "outputs": [
    {
     "data": {
      "application/vnd.jupyter.widget-view+json": {
       "model_id": "51dc096ab13748dd85dc76153a4d5068",
       "version_major": 2,
       "version_minor": 0
      },
      "text/plain": [
       "interactive(children=(Text(value='peanut butter', description='Type ingredient name:', style=DescriptionStyle(…"
      ]
     },
     "metadata": {},
     "output_type": "display_data"
    }
   ],
   "source": [
    "interact(search_text, text=w);"
   ]
  },
  {
   "cell_type": "markdown",
   "metadata": {},
   "source": [
    "**Tarefa Bônus:** Implemente um filtro por tipo de culinária (chinesa, italiana, grega etc.), para que os ingredientes exibidos como similares façam parte do tipo de culinária escolhida."
   ]
  },
  {
   "cell_type": "code",
   "execution_count": null,
   "metadata": {},
   "outputs": [],
   "source": []
  }
 ],
 "metadata": {
  "kernelspec": {
   "display_name": "Python 3",
   "language": "python",
   "name": "python3"
  },
  "language_info": {
   "codemirror_mode": {
    "name": "ipython",
    "version": 3
   },
   "file_extension": ".py",
   "mimetype": "text/x-python",
   "name": "python",
   "nbconvert_exporter": "python",
   "pygments_lexer": "ipython3",
   "version": "3.6.5"
  }
 },
 "nbformat": 4,
 "nbformat_minor": 2
}
