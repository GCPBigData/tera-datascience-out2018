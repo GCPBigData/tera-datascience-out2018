{
 "cells": [
  {
   "cell_type": "markdown",
   "metadata": {},
   "source": [
    "# Aula #26 – Processamento de Linguagem Natural & Análise de Sentimento"
   ]
  },
  {
   "cell_type": "markdown",
   "metadata": {},
   "source": [
    "# Visualização do Word2Vec usando t-SNE\n",
    "\n",
    "Veja o [vídeo](https://www.youtube.com/watch?v=p3wFE85dAyY) para entender o que está acontecendo com os nossos vetores word2vec ao aplicarmos o t-SNE."
   ]
  },
  {
   "cell_type": "code",
   "execution_count": 1,
   "metadata": {},
   "outputs": [],
   "source": [
    "!mkdir -p data/visualize_result/"
   ]
  },
  {
   "cell_type": "markdown",
   "metadata": {},
   "source": [
    "É necessário atualizar o `numpy` para poder fazer a visualização"
   ]
  },
  {
   "cell_type": "code",
   "execution_count": 2,
   "metadata": {},
   "outputs": [
    {
     "name": "stdout",
     "output_type": "stream",
     "text": [
      "Requirement already up-to-date: numpy in /home/cin/miniconda3/envs/tera-out2018/lib/python3.6/site-packages\n",
      "\u001b[33mYou are using pip version 9.0.3, however version 18.1 is available.\n",
      "You should consider upgrading via the 'pip install --upgrade pip' command.\u001b[0m\n"
     ]
    }
   ],
   "source": [
    "!pip install --upgrade numpy"
   ]
  },
  {
   "cell_type": "code",
   "execution_count": 3,
   "metadata": {},
   "outputs": [
    {
     "name": "stdout",
     "output_type": "stream",
     "text": [
      "2018-11-29 10:05:16.739455: I tensorflow/core/platform/cpu_feature_guard.cc:137] Your CPU supports instructions that this TensorFlow binary was not compiled to use: SSE4.1 SSE4.2 AVX AVX2 FMA\n",
      "Run `tensorboard --logdir=data/visualize_result` to run visualize result on tensorboard\n"
     ]
    }
   ],
   "source": [
    "!python utils/w2v_visualizer.py data/gensim.model data/visualize_result"
   ]
  },
  {
   "cell_type": "code",
   "execution_count": 4,
   "metadata": {},
   "outputs": [
    {
     "name": "stdout",
     "output_type": "stream",
     "text": [
      "Solving environment: done\n",
      "\n",
      "# All requested packages already installed.\n",
      "\n"
     ]
    }
   ],
   "source": [
    "!conda install -c anaconda -y tensorflow-tensorboard"
   ]
  },
  {
   "cell_type": "markdown",
   "metadata": {},
   "source": [
    "**Após a instalação, pode ser necessário dar um _restart_ no kernel e re-rodar as células**"
   ]
  },
  {
   "cell_type": "markdown",
   "metadata": {},
   "source": [
    "### Finalmente, a visualização!!\n",
    "\n",
    "Ao rodar a célula abaixo, irá aparecer um endereço `http`. Copie e cole-o em uma aba do seu browser para visualizar o tensorboard.\n",
    "\n",
    "Ao abrir o tensorboard, selecione a aba `PROJECTOR` e, já dentro do projetor, a aba `t-SNE` no canto inferior esquerdo. Ao selecionar essa aba, o treinamento já vai ser iniciado. Pode acontecer de o seu browser travar um pouco e mostrar uma mensagem (no meu caso, só cliquei em `Wait` e tudo funcionou normalmente). Quando os pontos pararem de se movimentar, provavelmente é porque os pontos já estabilizaram e vocë pode parar as iterações clicando em `pause` ou `stop`. Pronto!\n",
    "\n",
    "Do lado direito, existe uma caixa de busca que você pode usar para buscar os ingredientes que você tem interesse e, abaixo desse box, ao clicar em um ingrediente, você vai ver que é exibida uma lista dos ingredientes próximos no espaço original.\n",
    "\n",
    "Há também, vários símbolos com ponto de interrogação, que mostram um texto explicativo, ao passar o mouse em cima.\n",
    "\n",
    "Espero que você se divirta!"
   ]
  },
  {
   "cell_type": "code",
   "execution_count": null,
   "metadata": {},
   "outputs": [
    {
     "name": "stdout",
     "output_type": "stream",
     "text": [
      "\u001b[33mW1129 10:35:57.637683 Reloader tf_logging.py:114] Found more than one graph event per run, or there was a metagraph containing a graph_def, as well as one or more graph events.  Overwriting the graph with the newest event.\n",
      "\u001b[0m\u001b[33mW1129 10:35:57.660203 Reloader tf_logging.py:114] Found more than one metagraph event per run. Overwriting the metagraph with the newest event.\n",
      "\u001b[0mTensorBoard 1.5.1 at http://positivamente:6006 (Press CTRL+C to quit)\n",
      "\u001b[33mW1129 10:36:06.712727 Thread-1 application.py:273] path /[[_dataImageSrc]] not found, sending 404\n",
      "\u001b[0m"
     ]
    }
   ],
   "source": [
    "!python -m tensorboard.main --logdir=data/visualize_result/"
   ]
  },
  {
   "cell_type": "markdown",
   "metadata": {},
   "source": [
    "## Lembre-se de voltar para a versão original do _env_ do numpy "
   ]
  },
  {
   "cell_type": "code",
   "execution_count": 2,
   "metadata": {},
   "outputs": [
    {
     "name": "stdout",
     "output_type": "stream",
     "text": [
      "Collecting numpy==1.12.1\n",
      "  Downloading https://files.pythonhosted.org/packages/b1/e2/884cfbfd4f21b2313210d1d2ea72ecc381b98826d1b7e6606929ac6c0a08/numpy-1.12.1-cp36-cp36m-manylinux1_x86_64.whl (16.8MB)\n",
      "\u001b[K    100% |████████████████████████████████| 16.8MB 49kB/s \n",
      "\u001b[?25hInstalling collected packages: numpy\n",
      "  Found existing installation: numpy 1.15.4\n",
      "    Uninstalling numpy-1.15.4:\n",
      "      Successfully uninstalled numpy-1.15.4\n",
      "Successfully installed numpy-1.12.1\n",
      "\u001b[33mYou are using pip version 9.0.3, however version 18.1 is available.\n",
      "You should consider upgrading via the 'pip install --upgrade pip' command.\u001b[0m\n"
     ]
    }
   ],
   "source": [
    "!pip install numpy==1.12.1"
   ]
  },
  {
   "cell_type": "markdown",
   "metadata": {},
   "source": [
    "## Se quiser deixar o ambiente como estava, desinstale também o _tensorboard_"
   ]
  },
  {
   "cell_type": "code",
   "execution_count": null,
   "metadata": {},
   "outputs": [],
   "source": [
    "!conda uninstall -c anaconda -y tensorflow-tensorboard"
   ]
  }
 ],
 "metadata": {
  "kernelspec": {
   "display_name": "Python 3",
   "language": "python",
   "name": "python3"
  },
  "language_info": {
   "codemirror_mode": {
    "name": "ipython",
    "version": 3
   },
   "file_extension": ".py",
   "mimetype": "text/x-python",
   "name": "python",
   "nbconvert_exporter": "python",
   "pygments_lexer": "ipython3",
   "version": "3.6.5"
  }
 },
 "nbformat": 4,
 "nbformat_minor": 2
}
