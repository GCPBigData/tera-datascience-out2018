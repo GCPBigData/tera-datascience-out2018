{
 "cells": [
  {
   "cell_type": "markdown",
   "metadata": {},
   "source": [
    "# Aula \\#5 - Desafio em Grupo & Checkpoint \\#1 - Por que usar Python?\n",
    "\n",
    "O objetivo desta aula é praticar o que vocês já aprenderam sobre Python e mostrar algumas tarefas na rotina de um _data scientist_ em que vocês empregariam essa nova habilidade.\n",
    "\n",
    "Uma pergunta que sempre surge na hora de aprender uma linguagem de programação é se essa é a melhor linguagem para o que queremos fazer. Na área de data science, não é diferente, e existe muita discussão sobre o assunto:\n",
    "\n",
    "<img src=\"data/python_vs_r.png\" alt=\"drawing\" width=\"500\"/>\n",
    "\n",
    "Então, por que usar Python em data science?\n",
    "\n",
    "**1. Python é fácil de aprender**\n",
    "\n",
    "Parte dessa facilidade também vem da grande comunidade de Python, que ativamente responde perguntas em fóruns como o [StackOverflow](https://stackoverflow.com/questions/tagged/python) e que cria e mantém bibliotecas que melhoram nossa produtividade.\n",
    "\n",
    "<img src=\"data/growth_major_languages.png\" alt=\"drawing\" width=\"600\"/>\n",
    "\n",
    "Fonte: [post do StackOverflow](https://stackoverflow.blog/2017/09/06/incredible-growth-python/)\n",
    "\n",
    "**2. Python é interativo **\n",
    "\n",
    "Isso facilita a exploração de relações matemáticas e de datasets.\n",
    "\n",
    "**3. Python é amigável a tarefas de manipulações de dados **\n",
    "\n",
    "A sintaxe de Python facilita manipulações como a seleção de dados ou a aplicação de funções a listas, o que garante rapidez e praticidade aos _data scientists_.\n",
    "\n",
    "**4. Python pode ser usado para vários propósitos **\n",
    "\n",
    "Essa característica é o que permite integrar Python a outros sistemas com mais facilidade.\n",
    "\n",
    "Finalmente, nos últimos anos houve um grande aumento na procura de profissionais que conhecem Python, como podemos ver nessa lista postada pelo [coding dojo](https://www.codingdojo.com/blog/7-most-in-demand-programming-languages-of-2018/):\n",
    "\n",
    "<img src=\"data/in_demand_languages.jpeg\" alt=\"drawing\" width=\"400\"/>"
   ]
  },
  {
   "cell_type": "code",
   "execution_count": null,
   "metadata": {},
   "outputs": [],
   "source": []
  }
 ],
 "metadata": {
  "kernelspec": {
   "display_name": "Python 3",
   "language": "python",
   "name": "python3"
  },
  "language_info": {
   "codemirror_mode": {
    "name": "ipython",
    "version": 3
   },
   "file_extension": ".py",
   "mimetype": "text/x-python",
   "name": "python",
   "nbconvert_exporter": "python",
   "pygments_lexer": "ipython3",
   "version": "3.6.4"
  }
 },
 "nbformat": 4,
 "nbformat_minor": 2
}
